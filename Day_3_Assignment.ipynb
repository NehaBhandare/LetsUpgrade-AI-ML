{
 "cells": [
  {
   "cell_type": "markdown",
   "metadata": {},
   "source": [
    "# Question 1"
   ]
  },
  {
   "cell_type": "code",
   "execution_count": 59,
   "metadata": {},
   "outputs": [
    {
     "name": "stdout",
     "output_type": "stream",
     "text": [
      "Subtraction is :  (1+1j)\n"
     ]
    }
   ],
   "source": [
    "def subComplex( z1, z2): \n",
    "    return z1 - z2 \n",
    "\n",
    "z1 = complex(2, 3) \n",
    "z2 = complex(1, 2) \n",
    "print( \"Subtraction is : \", subComplex(z1, z2)) "
   ]
  },
  {
   "cell_type": "markdown",
   "metadata": {},
   "source": [
    "# Question 2"
   ]
  },
  {
   "cell_type": "code",
   "execution_count": 12,
   "metadata": {},
   "outputs": [
    {
     "name": "stdout",
     "output_type": "stream",
     "text": [
      "Enter a number: 16\n",
      "The square root of 16 is 2\n"
     ]
    }
   ],
   "source": [
    "num = float(input('Enter a number: '))\n",
    "\n",
    "fourth_sqrt = num ** 0.25\n",
    "print('The square root of %0.f is %0.f'%(num ,fourth_sqrt))"
   ]
  },
  {
   "cell_type": "markdown",
   "metadata": {},
   "source": [
    "# Question 3"
   ]
  },
  {
   "cell_type": "code",
   "execution_count": 61,
   "metadata": {},
   "outputs": [
    {
     "name": "stdout",
     "output_type": "stream",
     "text": [
      "Enter value of x: 10\n",
      "Enter value of y: 5\n",
      "After swapping: \n",
      "Value of x:  5 and y:  10\n"
     ]
    }
   ],
   "source": [
    "# To take inputs from the user\n",
    "x = input(\"Enter value of x: \")\n",
    "y = input(\"Enter value of y: \")\n",
    "\n",
    "# create a temporary variable and swap the values\n",
    "temp = x\n",
    "x = y\n",
    "y = temp\n",
    "\n",
    "print (\"After swapping: \") \n",
    "print(\"Value of x: \",x,\"and y: \",y)"
   ]
  },
  {
   "cell_type": "markdown",
   "metadata": {},
   "source": [
    "# Question 4"
   ]
  },
  {
   "cell_type": "code",
   "execution_count": 63,
   "metadata": {},
   "outputs": [
    {
     "name": "stdout",
     "output_type": "stream",
     "text": [
      "Enter the value of x: 10\n",
      "Enter the value of y: 5\n",
      "Before swapping: \n",
      "Value of x:  10 and y:  5\n",
      "After swapping: \n",
      "Value of x:  5 and y:  10\n"
     ]
    }
   ],
   "source": [
    "x = input(\"Enter the value of x: \")\n",
    "y = input(\"Enter the value of y: \")\n",
    "  \n",
    "print (\"Before swapping: \") \n",
    "print(\"Value of x: \",x, \"and y: \",y) \n",
    "  \n",
    "# code to swap 'x' and 'y' \n",
    "x, y = y, x \n",
    "  \n",
    "print (\"After swapping: \") \n",
    "print(\"Value of x: \",x,\"and y: \",y) "
   ]
  },
  {
   "cell_type": "markdown",
   "metadata": {},
   "source": [
    "# Question 5"
   ]
  },
  {
   "cell_type": "code",
   "execution_count": 44,
   "metadata": {},
   "outputs": [
    {
     "name": "stdout",
     "output_type": "stream",
     "text": [
      "Please enter temperature in fahrenheit: 100\n",
      "Temperature in kelvin: 311.278\n",
      "Temperature in celsius: 37.778\n"
     ]
    }
   ],
   "source": [
    "def Fahrenheit_to_Kelvin(F): \n",
    "    return 273.5 + ((F - 32.0) * (5.0/9.0)) \n",
    "\n",
    "def Fahrenheit_to_Celsius(F): \n",
    "    return (F - 32.0) * 5.0/9.0 \n",
    "  \n",
    "# Driver function \n",
    "F = float(input(\"Please enter temperature in fahrenheit: \"))\n",
    "print(\"Temperature in kelvin: {:.3f}\" .format(Fahrenheit_to_Kelvin( F )))\n",
    "print(\"Temperature in celsius: {:.3f}\" .format(Fahrenheit_to_Celsius( F )))"
   ]
  },
  {
   "cell_type": "markdown",
   "metadata": {},
   "source": [
    "# Question 6"
   ]
  },
  {
   "cell_type": "code",
   "execution_count": 56,
   "metadata": {},
   "outputs": [
    {
     "name": "stdout",
     "output_type": "stream",
     "text": [
      "<class 'int'>\n",
      "<class 'float'>\n",
      "<class 'complex'>\n",
      "<class 'str'>\n",
      "<class 'list'>\n",
      "<class 'tuple'>\n",
      "<class 'dict'>\n",
      "<class 'set'>\n",
      "<class 'bool'>\n"
     ]
    }
   ],
   "source": [
    "a = 1234\n",
    "print(type(a))\n",
    "\n",
    "b = 55.50\n",
    "print(type(b))\n",
    "\n",
    "c = 6+4j\n",
    "print(type(c))\n",
    "      \n",
    "d = \"hello\"\n",
    "print(type(d))\n",
    "      \n",
    "e = [1,2,3,4] \n",
    "print(type(e))\n",
    "      \n",
    "f = (1,2,3,4)\n",
    "print(type(f))\n",
    "      \n",
    "g = {1:\"one\", 2:\"two\", 3:\"three\"}\n",
    "print(type(g))\n",
    "\n",
    "h = {\"one\", \"two\", \"three\"}\n",
    "print(type(h))\n",
    "\n",
    "x = 2\n",
    "y = 3\n",
    "print(type(x < y))\n"
   ]
  },
  {
   "cell_type": "markdown",
   "metadata": {},
   "source": [
    "# Question 7"
   ]
  },
  {
   "cell_type": "markdown",
   "metadata": {},
   "source": [
    "# How to submit Assignments?\n",
    "\n",
    "1. Go to the github.com, it is a place where we can push our code.\n",
    "2. We can keep our code is public or private depending on our choice.\n",
    "3. We have to create a own profile here by signing in through the gmail account.\n",
    "4. After successfully signing in, Create new repository named as 'LetsUpgrade AI-ML'.\n",
    "5. Provide the appropriate description (eg. Assignments).\n",
    "6. Click on create repository option at the end.\n",
    "7. Once the repository is created, a folder 'LetsUpgrade AI-ML' will be created.\n",
    "8. After that click on uploading an existing file then drag and drop the files over there\n",
    "9. After uploading the file, click on commit changes.\n",
    "10. If the file is opened in the incognito mode then it's said to be made as public so anyone can acceess it.\n",
    "11. Copy the URL of the Folder of that day and paste in the Assignment Submission Form (Google Form)."
   ]
  }
 ],
 "metadata": {
  "kernelspec": {
   "display_name": "Python 3",
   "language": "python",
   "name": "python3"
  },
  "language_info": {
   "codemirror_mode": {
    "name": "ipython",
    "version": 3
   },
   "file_extension": ".py",
   "mimetype": "text/x-python",
   "name": "python",
   "nbconvert_exporter": "python",
   "pygments_lexer": "ipython3",
   "version": "3.7.6"
  },
  "toc": {
   "base_numbering": 1,
   "nav_menu": {},
   "number_sections": true,
   "sideBar": true,
   "skip_h1_title": false,
   "title_cell": "Table of Contents",
   "title_sidebar": "Contents",
   "toc_cell": false,
   "toc_position": {},
   "toc_section_display": true,
   "toc_window_display": false
  }
 },
 "nbformat": 4,
 "nbformat_minor": 4
}
