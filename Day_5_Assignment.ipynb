{
 "cells": [
  {
   "cell_type": "markdown",
   "metadata": {},
   "source": [
    "# Question 1 "
   ]
  },
  {
   "cell_type": "code",
   "execution_count": null,
   "metadata": {},
   "outputs": [],
   "source": [
    "start = int(input(\"Enter the start of range: \")) \n",
    "end = int(input(\"Enter the end of range: \")) \n",
    "  \n",
    "# iterating each number in list \n",
    "for num in range(start, end + 1): \n",
    "      \n",
    "    # checking condition \n",
    "    if num % 2 != 0: \n",
    "        print(num, end = \" \") \n",
    "        \n",
    "        for val in range(start, end + 1): \n",
    "    if val > 1: \n",
    "        for n in range(2, val//2 + 2): \n",
    "            if (val % n) == 0: \n",
    "                break\n",
    "            else: \n",
    "                if n == val//2 + 1: \n",
    "                    print(val) "
   ]
  },
  {
   "cell_type": "code",
   "execution_count": 84,
   "metadata": {},
   "outputs": [
    {
     "name": "stdout",
     "output_type": "stream",
     "text": [
      "Enter lower range: 0\n",
      "Enter upper range: 20\n",
      "2\n",
      "3\n",
      "4\n",
      "5\n",
      "6\n",
      "7\n",
      "8\n",
      "10\n",
      "11\n",
      "12\n",
      "13\n",
      "14\n",
      "16\n",
      "17\n",
      "18\n",
      "19\n",
      "20\n"
     ]
    }
   ],
   "source": [
    "lower = int(input(\"Enter lower range: \"))  \n",
    "upper = int(input(\"Enter upper range: \"))  \n",
    "  \n",
    "for num in range(lower,upper + 1):  \n",
    "    if num > 1:  \n",
    "        for i in range(2,num):  \n",
    "            if ((num > 0) and ((num % 2) != 0) and ((num % i) == 0)):  \n",
    "                break  \n",
    "        else:  \n",
    "            print(num)"
   ]
  },
  {
   "cell_type": "markdown",
   "metadata": {},
   "source": [
    "# Question 2"
   ]
  },
  {
   "cell_type": "code",
   "execution_count": 53,
   "metadata": {},
   "outputs": [
    {
     "name": "stdout",
     "output_type": "stream",
     "text": [
      "HELLO, I LOVE PYTHON\n",
      "hello, i love python\n",
      "3\n",
      "Hello, i love python\n",
      "True\n",
      "14\n",
      "False\n",
      "False\n",
      "hello, I love python\n",
      "('hello, I love ', 'python', '')\n",
      "hello, I love python\n",
      "b'hello, I love python'\n",
      "hello, I love python\n",
      "hello, we love python\n",
      "9\n"
     ]
    }
   ],
   "source": [
    "Sample_string = \"hello, I love python\"\n",
    "print(Sample_string.upper()) #Converts a string into upper case\n",
    "print(Sample_string.lower()) #Converts a string into lower case\n",
    "print(Sample_string.count('o')) #Returns the number of times a specified value occurs in a string\n",
    "print(Sample_string.capitalize()) #Converts the first character to upper case\n",
    "print(Sample_string.endswith('n')) #Returns true if the string ends with the specified value\n",
    "print(Sample_string.index('p')) #Searches the string for a specified value and returns the position of where it was found\n",
    "print(Sample_string.isalpha()) #Returns True if all characters in the string are in the alphabet\n",
    "print(Sample_string.isdecimal()) #Returns True if all characters in the string are decimals\n",
    "print(Sample_string.center(0)) #Returns a centered string\n",
    "print(Sample_string.partition('python')) #Returns a tuple where the string is parted into three parts\n",
    "print(Sample_string.format_map(0)) #Formats specified values in a string\n",
    "print(Sample_string.encode()) #Returns an encoded version of the string\n",
    "print(Sample_string.lstrip()) #Returns a left trim version of the string\n",
    "print(Sample_string.replace('I','we')) #Returns a string where a specified value is replaced with a specified value\n",
    "print(Sample_string.rfind('l')) #Searches the string for a specified value and returns the last position of where it was found"
   ]
  },
  {
   "cell_type": "markdown",
   "metadata": {},
   "source": [
    "# Question 3"
   ]
  },
  {
   "cell_type": "code",
   "execution_count": 73,
   "metadata": {},
   "outputs": [
    {
     "name": "stdout",
     "output_type": "stream",
     "text": [
      "The strings listen and silent are Anagrams.\n",
      "The string malayalam is Palindrome.\n"
     ]
    }
   ],
   "source": [
    "def check(s1, s2): \n",
    "      \n",
    "    # the sorted strings are checked  \n",
    "    if(sorted(s1)== sorted(s2)): \n",
    "        print(\"The strings\", s1, \"and\",s2, \"are Anagrams.\")  \n",
    "    else: \n",
    "        print(\"The strings\", s1, \"and\",s2, \"aren't Anagrams.\")          \n",
    "\n",
    "def isPalindrome(s): \n",
    "      \n",
    "    # Using predefined function to  \n",
    "    # reverse to string print(s) \n",
    "    rev = ''.join(reversed(s)) \n",
    "  \n",
    "    # Checking if both string are  \n",
    "    # equal or not \n",
    "    if (s == rev): \n",
    "        return True\n",
    "    return False\n",
    "\n",
    "# driver code   \n",
    "s1 =\"listen\"\n",
    "s2 =\"silent\" \n",
    "check(s1, s2) \n",
    "  \n",
    "# main function \n",
    "s = \"malayalam\"\n",
    "ans = isPalindrome(s)   \n",
    "if (ans): \n",
    "    print(\"The string\", s, \"is Palindrome.\") \n",
    "else: \n",
    "    print(\"The string\", s, \"isn't Palindrome.\")"
   ]
  },
  {
   "cell_type": "markdown",
   "metadata": {},
   "source": [
    "# Question 4"
   ]
  },
  {
   "cell_type": "code",
   "execution_count": 76,
   "metadata": {},
   "outputs": [
    {
     "name": "stdout",
     "output_type": "stream",
     "text": [
      "Original String : Dr. Darshan Ingle @AI-ML Trainer\n",
      "Resultant list is : drdarshaningleaimltrainer\n"
     ]
    }
   ],
   "source": [
    "bad_chars = ['.', '-', '@', ' '] \n",
    "  \n",
    "# initializing test string  \n",
    "test_string = \"Dr. Darshan Ingle @AI-ML Trainer\"\n",
    "  \n",
    "# printing original string  \n",
    "print (\"Original String : \" + test_string) \n",
    "  \n",
    "# using replace() to  \n",
    "# remove bad_chars  \n",
    "for i in bad_chars : \n",
    "    test_string = test_string.replace(i, '').lower() \n",
    "  \n",
    "# printing resultant string  \n",
    "print (\"Resultant list is : \" + str(test_string)) \n"
   ]
  }
 ],
 "metadata": {
  "kernelspec": {
   "display_name": "Python 3",
   "language": "python",
   "name": "python3"
  },
  "language_info": {
   "codemirror_mode": {
    "name": "ipython",
    "version": 3
   },
   "file_extension": ".py",
   "mimetype": "text/x-python",
   "name": "python",
   "nbconvert_exporter": "python",
   "pygments_lexer": "ipython3",
   "version": "3.7.6"
  },
  "toc": {
   "base_numbering": 1,
   "nav_menu": {},
   "number_sections": true,
   "sideBar": true,
   "skip_h1_title": false,
   "title_cell": "Table of Contents",
   "title_sidebar": "Contents",
   "toc_cell": false,
   "toc_position": {},
   "toc_section_display": true,
   "toc_window_display": false
  }
 },
 "nbformat": 4,
 "nbformat_minor": 4
}
