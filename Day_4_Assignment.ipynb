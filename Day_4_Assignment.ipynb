{
 "cells": [
  {
   "cell_type": "markdown",
   "metadata": {},
   "source": [
    "# Question 1"
   ]
  },
  {
   "cell_type": "code",
   "execution_count": 4,
   "metadata": {},
   "outputs": [
    {
     "name": "stdout",
     "output_type": "stream",
     "text": [
      "Addtion is :  (3+5j)\n",
      "Subtraction is :  (1+1j)\n",
      "Multiplication is :  (-4+7j)\n",
      "Division is :  (1.6-0.2j)\n"
     ]
    }
   ],
   "source": [
    "# Complex numbers are numbers with a real and imaginary part. \n",
    "# They're only worth noting here because neither modulo nor floor \n",
    "# division can accept a complex number as an operand. \n",
    "# Trying to use a complex number for floor division or\n",
    "# modulo operations will raise a TypeError.\n",
    "# Floor division and modulo are linked by the following identity, \n",
    "# x = (x // y) * y + (x % y), which is why modulo also yields \n",
    "# unexpected results for negative numbers, not just floor division.\n",
    "# Floor and modulus operators (// and % respectively) are not allowed \n",
    "# to be used on complex number in Python 3.x. However, these operations \n",
    "# are defined for complex numbers in Python 2.7.x .In 2.7.x modulus of \n",
    "# complex number operands returns their floor division multiplied by denominator.\n",
    "# For Eg. >>> x=9+2j\n",
    "#         >>> y=2+1j\n",
    "#         >>> x%y\n",
    "#         Ans: (1-2j)\n",
    "\n",
    "#         >>> x-(x//y)*y\n",
    "#         Ans:  (1-2j)\n",
    "\n",
    "def addComplex( z1, z2): \n",
    "    return z1 + z2 \n",
    "\n",
    "def subComplex( z1, z2): \n",
    "    return z1 - z2\n",
    "\n",
    "def mulComplex( z1, z2): \n",
    "    return z1 * z2\n",
    "\n",
    "def divComplex( z1, z2): \n",
    "    return z1 / z2\n",
    "  \n",
    "# Driver's code \n",
    "z1 = complex(2, 3) \n",
    "z2 = complex(1, 2) \n",
    "print( \"Addtion is : \", addComplex(z1, z2))\n",
    "print( \"Subtraction is : \", subComplex(z1, z2))\n",
    "print( \"Multiplication is : \", mulComplex(z1, z2))\n",
    "print( \"Division is : \", divComplex(z1, z2))"
   ]
  },
  {
   "cell_type": "code",
   "execution_count": 5,
   "metadata": {},
   "outputs": [
    {
     "name": "stdout",
     "output_type": "stream",
     "text": [
      "5\n"
     ]
    }
   ],
   "source": [
    "from math import sqrt \n",
    "  \n",
    "# Function to find modulus \n",
    "# of a complex number \n",
    "def findModulo(s): \n",
    "    l = len(s) \n",
    "    modulus = 0\n",
    "  \n",
    "    # Storing the index of '+' \n",
    "    if ( '+' in s ): \n",
    "        i = s.index('+') \n",
    "  \n",
    "    # Storing the index of '-' \n",
    "    else: \n",
    "        i = s.index('-') \n",
    "  \n",
    "    # Finding the real part \n",
    "    # of the complex number \n",
    "    real = s[0:i] \n",
    "  \n",
    "    # Finding the imaginary part \n",
    "    # of the complex number \n",
    "    imaginary = s[i + 1:l - 1] \n",
    "  \n",
    "    x = int(real) \n",
    "    y = int(imaginary) \n",
    "  \n",
    "    print(int(sqrt(x * x + y * y))) \n",
    "  \n",
    "# Driver code \n",
    "if __name__ == '__main__': \n",
    "    s = \"3+4i\"\n",
    "  \n",
    "    findModulo(s) \n",
    "  "
   ]
  },
  {
   "cell_type": "markdown",
   "metadata": {},
   "source": [
    "# Question 2"
   ]
  },
  {
   "cell_type": "code",
   "execution_count": 25,
   "metadata": {},
   "outputs": [
    {
     "name": "stdout",
     "output_type": "stream",
     "text": [
      "Python range() example\n",
      "Get numbers from range 0 to 6\n",
      "0, 1, 2, 3, 4, 5, "
     ]
    }
   ],
   "source": [
    "# range() only works with the integers. All arguments must be integers. \n",
    "# You can not use float number or any other type in a start, stop and step argument of a range().\n",
    "# All three arguments can be positive or negative.\n",
    "# The step value must not be zero. If a step is zero Python raises a ValueError exception.\n",
    "# 1. start(optional)= Starting point of the sequence. It defaults to 0.\n",
    "# 2. stop (required)= Endpoint of the sequence. This item will not be included in the sequence.\n",
    "# 3. step (optional)= Step size of the sequence. It defaults to 1.\n",
    "# range(stop) takes one argument.\n",
    "# range(start, stop) takes two arguments.\n",
    "# range(start, stop, step) takes three arguments.\n",
    "\n",
    "print(\"Python range() example\")\n",
    "print(\"Get numbers from range 0 to 6\")\n",
    "for i in range(6):\n",
    "    print(i, end=', ')"
   ]
  },
  {
   "cell_type": "markdown",
   "metadata": {},
   "source": [
    "# Question 3"
   ]
  },
  {
   "cell_type": "code",
   "execution_count": 29,
   "metadata": {},
   "outputs": [
    {
     "name": "stdout",
     "output_type": "stream",
     "text": [
      "Enter first number: 10\n",
      "Enter second number: 25\n",
      "Subtraction is:  -15.0\n",
      "Subtraction is less than 25\n",
      "Division of two numbers:  0.4\n"
     ]
    }
   ],
   "source": [
    "Num1 = float(input(\"Enter first number: \"))\n",
    "Num2 = float(input(\"Enter second number: \"))\n",
    "Sub = float(Num1 - Num2)\n",
    "print(\"Subtraction is: \",Sub)\n",
    "\n",
    "if Sub > 25:\n",
    "    print(\"Subtraction is greater than 25\")\n",
    "    print(\"Multiplication of two numbers: \",float(Num1 * Num2))\n",
    "else:\n",
    "    print(\"Subtraction is less than 25\")\n",
    "    print(\"Division of two numbers: \",float(Num1 / Num2))"
   ]
  },
  {
   "cell_type": "markdown",
   "metadata": {},
   "source": [
    "# Question 4 "
   ]
  },
  {
   "cell_type": "code",
   "execution_count": 2,
   "metadata": {},
   "outputs": [
    {
     "name": "stdout",
     "output_type": "stream",
     "text": [
      "New list is:  [18, 22]\n"
     ]
    }
   ],
   "source": [
    "num_list = [10, 11, 12, 15]\n",
    "# use anonymous function to filter\n",
    "result = list(filter(lambda x: (x % 2 == 0), num_list))\n",
    "final_list = [((i * 2)-2) for i in result]\n",
    "\n",
    "print(\"New list is: \",final_list)"
   ]
  },
  {
   "cell_type": "markdown",
   "metadata": {},
   "source": [
    "# Question 5"
   ]
  },
  {
   "cell_type": "code",
   "execution_count": 3,
   "metadata": {},
   "outputs": [
    {
     "name": "stdout",
     "output_type": "stream",
     "text": [
      "Numbers:  [10, 12]\n"
     ]
    }
   ],
   "source": [
    "num_list = [10, 6, 12, 2, 5]\n",
    "# use anonymous function to filter\n",
    "result = list(filter(lambda x: (x % 2 == 0 and x > 7) , num_list))\n",
    "print(\"Numbers: \", result)"
   ]
  }
 ],
 "metadata": {
  "kernelspec": {
   "display_name": "Python 3",
   "language": "python",
   "name": "python3"
  },
  "language_info": {
   "codemirror_mode": {
    "name": "ipython",
    "version": 3
   },
   "file_extension": ".py",
   "mimetype": "text/x-python",
   "name": "python",
   "nbconvert_exporter": "python",
   "pygments_lexer": "ipython3",
   "version": "3.7.6"
  },
  "toc": {
   "base_numbering": 1,
   "nav_menu": {},
   "number_sections": true,
   "sideBar": true,
   "skip_h1_title": false,
   "title_cell": "Table of Contents",
   "title_sidebar": "Contents",
   "toc_cell": false,
   "toc_position": {},
   "toc_section_display": true,
   "toc_window_display": false
  }
 },
 "nbformat": 4,
 "nbformat_minor": 4
}
