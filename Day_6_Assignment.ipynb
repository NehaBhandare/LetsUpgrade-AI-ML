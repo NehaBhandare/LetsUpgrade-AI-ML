{
 "cells": [
  {
   "cell_type": "markdown",
   "metadata": {},
   "source": [
    "# Question 1"
   ]
  },
  {
   "cell_type": "code",
   "execution_count": 2,
   "metadata": {},
   "outputs": [
    {
     "name": "stdout",
     "output_type": "stream",
     "text": [
      "Enter your email address: john@google.com\n",
      "Company name is: google\n"
     ]
    }
   ],
   "source": [
    "email = input('Enter your email address: ')\n",
    "company = email.split('@')[1].split('.')[0]\n",
    "print(f'Company name is: {company}')"
   ]
  },
  {
   "cell_type": "markdown",
   "metadata": {},
   "source": [
    "# Question 2"
   ]
  },
  {
   "cell_type": "code",
   "execution_count": 19,
   "metadata": {},
   "outputs": [
    {
     "name": "stdout",
     "output_type": "stream",
     "text": [
      "Enter the words: world, letsup, hello\n",
      " hello, letsup,world\n"
     ]
    }
   ],
   "source": [
    "words = input('Enter the words: ').split(',')\n",
    "words.sort()\n",
    "words_sorted = ','.join(i for i in words)\n",
    "print(words_sorted)"
   ]
  },
  {
   "cell_type": "markdown",
   "metadata": {},
   "source": [
    "# Question 3"
   ]
  },
  {
   "cell_type": "code",
   "execution_count": 16,
   "metadata": {},
   "outputs": [
    {
     "name": "stdout",
     "output_type": "stream",
     "text": [
      "Set:  {1, 2, 3, 4, 5} \n",
      "\n",
      "<class 'set'>\n",
      "1\n",
      "2\n",
      "3\n",
      "4\n",
      "5\n",
      "Add:  {1, 2, 3, 4, 5, 6} \n",
      "\n",
      "Update:  {1, 2, 3, 4, 5, 6, 7, 8, 9} \n",
      "\n",
      "Remove:  {1, 2, 3, 4, 5, 6, 7, 9} \n",
      "\n",
      "Discard:  {1, 2, 3, 4, 5, 6, 7} \n",
      "\n",
      "Clear:  set() \n",
      "\n"
     ]
    }
   ],
   "source": [
    "# A Set is an unordered collection data type that is iterable, mutable and has no duplicate elements.\n",
    "# Python’s set class represents the mathematical notion of a set. The major advantage of using a set, \n",
    "# as opposed to a list, is that it has a highly optimized method for checking whether a specific element\n",
    "# is contained in the set. This is based on a data structure known as a hash table. Since sets are unordered,\n",
    "# we cannot access items using indexes like we do in lists.\n",
    "\n",
    "s = {1,2,3,4,5}\n",
    "print(\"Set: \",s,'\\n')\n",
    "\n",
    "print(type(s))\n",
    "for i in s:\n",
    "    print(i)\n",
    "        \n",
    "s.add(6)\n",
    "print(\"Add: \",s,'\\n')\n",
    "\n",
    "s.update([7,8,9])\n",
    "print(\"Update: \",s,'\\n')\n",
    "\n",
    "s.remove(8)\n",
    "print(\"Remove: \",s,'\\n')\n",
    "\n",
    "s.discard(9)\n",
    "print(\"Discard: \",s,'\\n')\n",
    "\n",
    "s.clear()\n",
    "print(\"Clear: \",s,'\\n')"
   ]
  },
  {
   "cell_type": "markdown",
   "metadata": {},
   "source": [
    "# Question 4"
   ]
  },
  {
   "cell_type": "code",
   "execution_count": 5,
   "metadata": {},
   "outputs": [
    {
     "name": "stdout",
     "output_type": "stream",
     "text": [
      "5.0\n"
     ]
    }
   ],
   "source": [
    "# getMissingNo takes list as argument \n",
    "def getMissingNo(List): \n",
    "    n = len(List) \n",
    "    total = (n + 1)*(n + 2)/2\n",
    "    sum_of_List = sum(List) \n",
    "    return total - sum_of_List \n",
    "\n",
    "# Driver program to test the above function \n",
    "List = [1, 2, 4, 6, 3, 7, 8] \n",
    "missing_no = getMissingNo(List) \n",
    "print(missing_no)"
   ]
  },
  {
   "cell_type": "markdown",
   "metadata": {},
   "source": [
    "# Question 5"
   ]
  },
  {
   "cell_type": "code",
   "execution_count": 1,
   "metadata": {},
   "outputs": [
    {
     "name": "stdout",
     "output_type": "stream",
     "text": [
      "[12, 24, 35, 88, 120, 155]\n"
     ]
    }
   ],
   "source": [
    "# Python code to remove duplicate elements \n",
    "def Remove(duplicate): \n",
    "    final_list = [] \n",
    "    for num in duplicate: \n",
    "        if num not in final_list: \n",
    "            final_list.append(num) \n",
    "    return final_list \n",
    "\n",
    "# Driver Code \n",
    "duplicate = [12, 24, 35, 24, 88, 120, 155, 88, 120, 155]\n",
    "print(Remove(duplicate)) "
   ]
  }
 ],
 "metadata": {
  "kernelspec": {
   "display_name": "Python 3",
   "language": "python",
   "name": "python3"
  },
  "language_info": {
   "codemirror_mode": {
    "name": "ipython",
    "version": 3
   },
   "file_extension": ".py",
   "mimetype": "text/x-python",
   "name": "python",
   "nbconvert_exporter": "python",
   "pygments_lexer": "ipython3",
   "version": "3.7.6"
  },
  "toc": {
   "base_numbering": 1,
   "nav_menu": {},
   "number_sections": true,
   "sideBar": true,
   "skip_h1_title": false,
   "title_cell": "Table of Contents",
   "title_sidebar": "Contents",
   "toc_cell": false,
   "toc_position": {},
   "toc_section_display": true,
   "toc_window_display": false
  }
 },
 "nbformat": 4,
 "nbformat_minor": 4
}
